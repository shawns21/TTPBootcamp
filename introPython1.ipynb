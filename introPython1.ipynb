{
  "nbformat": 4,
  "nbformat_minor": 0,
  "metadata": {
    "colab": {
      "provenance": [],
      "authorship_tag": "ABX9TyP0rU+U28N1aRKt89rm5DdT",
      "include_colab_link": true
    },
    "kernelspec": {
      "name": "python3",
      "display_name": "Python 3"
    },
    "language_info": {
      "name": "python"
    }
  },
  "cells": [
    {
      "cell_type": "markdown",
      "metadata": {
        "id": "view-in-github",
        "colab_type": "text"
      },
      "source": [
        "<a href=\"https://colab.research.google.com/github/shawns21/TTPBootcamp/blob/main/introPython1.ipynb\" target=\"_parent\"><img src=\"https://colab.research.google.com/assets/colab-badge.svg\" alt=\"Open In Colab\"/></a>"
      ]
    },
    {
      "cell_type": "markdown",
      "source": [
        "# Python Basic:"
      ],
      "metadata": {
        "id": "gsiCWIp1HVYH"
      }
    },
    {
      "cell_type": "markdown",
      "source": [
        "## Strings & the print () function"
      ],
      "metadata": {
        "id": "BtCkjTD2Ijfn"
      }
    },
    {
      "cell_type": "code",
      "source": [
        "print(\"Hello World\")\n",
        "\n",
        "#using the print function to ouput the string \"Hello World\""
      ],
      "metadata": {
        "colab": {
          "base_uri": "https://localhost:8080/"
        },
        "id": "z-X5xWSmIja2",
        "outputId": "c8c0d2a7-1818-4d61-ed13-ab7851e525b8"
      },
      "execution_count": 49,
      "outputs": [
        {
          "output_type": "stream",
          "name": "stdout",
          "text": [
            "Hello World\n"
          ]
        }
      ]
    },
    {
      "cell_type": "code",
      "source": [
        "print(\"\"\"Hello\n",
        "\n",
        "My Name Is\n",
        "\n",
        "Shawn\"\"\")\n",
        "\n",
        "#using triple quotes \"\"\" to output a multi line sentence that also spaces"
      ],
      "metadata": {
        "colab": {
          "base_uri": "https://localhost:8080/"
        },
        "id": "zMVnRCf2IjM9",
        "outputId": "c786b751-8cf5-4fce-a94d-5c3252fe0ade"
      },
      "execution_count": 50,
      "outputs": [
        {
          "output_type": "stream",
          "name": "stdout",
          "text": [
            "Hello\n",
            "\n",
            "My Name Is\n",
            "\n",
            "Shawn\n"
          ]
        }
      ]
    },
    {
      "cell_type": "code",
      "source": [
        "print(\"My favorite\" + \"number is\" + str(33))\n",
        "\n",
        "#using the concatination feature to add the string \"My favorite\" and \"number is\" with the string version of 33, the str() function converts the integer 33 to \"33\""
      ],
      "metadata": {
        "colab": {
          "base_uri": "https://localhost:8080/"
        },
        "id": "0KWoriu2IjJy",
        "outputId": "8e3a647e-1812-4610-c6d6-6b06d5fb63c6"
      },
      "execution_count": 51,
      "outputs": [
        {
          "output_type": "stream",
          "name": "stdout",
          "text": [
            "My favoritenumber is33\n"
          ]
        }
      ]
    },
    {
      "cell_type": "markdown",
      "source": [
        "#Variables"
      ],
      "metadata": {
        "id": "bIydGMofIjG3"
      }
    },
    {
      "cell_type": "code",
      "source": [
        "\n",
        "x = 45\n",
        "\n",
        "#declaring a variable x with the integer value of 45"
      ],
      "metadata": {
        "id": "mKM7YNv_LVO1"
      },
      "execution_count": 52,
      "outputs": []
    },
    {
      "cell_type": "code",
      "source": [
        "x = \"Shawn Sinanan is 20 years old\"\n",
        "\n",
        "#storing the string \"Shawn Sinanan is 20 years old\" in the variable x"
      ],
      "metadata": {
        "id": "LOEArQW3UQ-O"
      },
      "execution_count": 53,
      "outputs": []
    },
    {
      "cell_type": "code",
      "source": [
        "print(x[3], x[5], x[12])\n",
        "\n",
        "#since a string is a array of characters, I am printing the characters in the index of 3, 5 and 12 with the x[] sign"
      ],
      "metadata": {
        "colab": {
          "base_uri": "https://localhost:8080/"
        },
        "id": "0AfpEiLcIi9e",
        "outputId": "b04ba66d-546c-4d3c-e8b9-6f2fa3ffef77"
      },
      "execution_count": 54,
      "outputs": [
        {
          "output_type": "stream",
          "name": "stdout",
          "text": [
            "w   n\n"
          ]
        }
      ]
    },
    {
      "cell_type": "markdown",
      "source": [
        "#Format"
      ],
      "metadata": {
        "id": "juvu_QKpM6oL"
      }
    },
    {
      "cell_type": "code",
      "source": [
        "string = f\"Here is a fact: {x}\"\n",
        "\n",
        "#using the format f\"\" to insert the varaible x into the string where the {} are placed"
      ],
      "metadata": {
        "id": "d8MWSdJMIisL"
      },
      "execution_count": 55,
      "outputs": []
    },
    {
      "cell_type": "code",
      "source": [
        "string\n",
        "\n",
        "#printing out the string to show it has been inserted"
      ],
      "metadata": {
        "colab": {
          "base_uri": "https://localhost:8080/",
          "height": 35
        },
        "id": "zdUV5qjrIioL",
        "outputId": "80166490-3ea4-4d03-84cf-950022ce8d85"
      },
      "execution_count": 56,
      "outputs": [
        {
          "output_type": "execute_result",
          "data": {
            "text/plain": [
              "'Here is a fact: Shawn Sinanan is 20 years old'"
            ],
            "application/vnd.google.colaboratory.intrinsic+json": {
              "type": "string"
            }
          },
          "metadata": {},
          "execution_count": 56
        }
      ]
    },
    {
      "cell_type": "code",
      "source": [
        "x = \"Monday\"\n",
        "\n",
        "#changing the value of x"
      ],
      "metadata": {
        "id": "09niBL3iIiki"
      },
      "execution_count": 57,
      "outputs": []
    },
    {
      "cell_type": "code",
      "source": [
        "string = f\"Today is {x}\"\n",
        "\n",
        "#redefining the string so I can see the different formated string"
      ],
      "metadata": {
        "id": "y-cPKP4DSVOi"
      },
      "execution_count": 58,
      "outputs": []
    },
    {
      "cell_type": "code",
      "source": [
        "string"
      ],
      "metadata": {
        "colab": {
          "base_uri": "https://localhost:8080/",
          "height": 35
        },
        "id": "TPUzAoD6SVVe",
        "outputId": "9dedffee-e807-4c8f-90fe-c2d7202f6b54"
      },
      "execution_count": 59,
      "outputs": [
        {
          "output_type": "execute_result",
          "data": {
            "text/plain": [
              "'Today is Monday'"
            ],
            "application/vnd.google.colaboratory.intrinsic+json": {
              "type": "string"
            }
          },
          "metadata": {},
          "execution_count": 59
        }
      ]
    },
    {
      "cell_type": "markdown",
      "source": [
        "#Str Functions\n"
      ],
      "metadata": {
        "id": "bBGWLu8hYyOr"
      }
    },
    {
      "cell_type": "code",
      "source": [
        "dir(string)\n",
        "#Here is a directory full of functions that can be used on the string variable"
      ],
      "metadata": {
        "colab": {
          "base_uri": "https://localhost:8080/"
        },
        "id": "ChXuapd2I9Q4",
        "outputId": "85c9bb77-316b-4da6-eee2-89d292446f78"
      },
      "execution_count": 60,
      "outputs": [
        {
          "output_type": "execute_result",
          "data": {
            "text/plain": [
              "['__add__',\n",
              " '__class__',\n",
              " '__contains__',\n",
              " '__delattr__',\n",
              " '__dir__',\n",
              " '__doc__',\n",
              " '__eq__',\n",
              " '__format__',\n",
              " '__ge__',\n",
              " '__getattribute__',\n",
              " '__getitem__',\n",
              " '__getnewargs__',\n",
              " '__gt__',\n",
              " '__hash__',\n",
              " '__init__',\n",
              " '__init_subclass__',\n",
              " '__iter__',\n",
              " '__le__',\n",
              " '__len__',\n",
              " '__lt__',\n",
              " '__mod__',\n",
              " '__mul__',\n",
              " '__ne__',\n",
              " '__new__',\n",
              " '__reduce__',\n",
              " '__reduce_ex__',\n",
              " '__repr__',\n",
              " '__rmod__',\n",
              " '__rmul__',\n",
              " '__setattr__',\n",
              " '__sizeof__',\n",
              " '__str__',\n",
              " '__subclasshook__',\n",
              " 'capitalize',\n",
              " 'casefold',\n",
              " 'center',\n",
              " 'count',\n",
              " 'encode',\n",
              " 'endswith',\n",
              " 'expandtabs',\n",
              " 'find',\n",
              " 'format',\n",
              " 'format_map',\n",
              " 'index',\n",
              " 'isalnum',\n",
              " 'isalpha',\n",
              " 'isascii',\n",
              " 'isdecimal',\n",
              " 'isdigit',\n",
              " 'isidentifier',\n",
              " 'islower',\n",
              " 'isnumeric',\n",
              " 'isprintable',\n",
              " 'isspace',\n",
              " 'istitle',\n",
              " 'isupper',\n",
              " 'join',\n",
              " 'ljust',\n",
              " 'lower',\n",
              " 'lstrip',\n",
              " 'maketrans',\n",
              " 'partition',\n",
              " 'removeprefix',\n",
              " 'removesuffix',\n",
              " 'replace',\n",
              " 'rfind',\n",
              " 'rindex',\n",
              " 'rjust',\n",
              " 'rpartition',\n",
              " 'rsplit',\n",
              " 'rstrip',\n",
              " 'split',\n",
              " 'splitlines',\n",
              " 'startswith',\n",
              " 'strip',\n",
              " 'swapcase',\n",
              " 'title',\n",
              " 'translate',\n",
              " 'upper',\n",
              " 'zfill']"
            ]
          },
          "metadata": {},
          "execution_count": 60
        }
      ]
    },
    {
      "cell_type": "code",
      "source": [
        "string = \"Hello my name is Shawn\""
      ],
      "metadata": {
        "id": "etf3EuWaI9Sx"
      },
      "execution_count": 61,
      "outputs": []
    },
    {
      "cell_type": "code",
      "source": [
        "words = string.split(\" \")\n",
        "#using the split function to seperate the string by spaces into a list and name that list words"
      ],
      "metadata": {
        "id": "9kt61drAI9XH"
      },
      "execution_count": 62,
      "outputs": []
    },
    {
      "cell_type": "code",
      "source": [
        "print(words)\n",
        "#printing out the list called words"
      ],
      "metadata": {
        "colab": {
          "base_uri": "https://localhost:8080/"
        },
        "id": "zkMxOIXjI9aA",
        "outputId": "d0ad39da-7b24-4a02-9ce6-d6ac54d99d79"
      },
      "execution_count": 63,
      "outputs": [
        {
          "output_type": "stream",
          "name": "stdout",
          "text": [
            "['Hello', 'my', 'name', 'is', 'Shawn']\n"
          ]
        }
      ]
    },
    {
      "cell_type": "code",
      "source": [
        "elements = string.split(\"n\")\n",
        "#using the split function to split the string by the letter n"
      ],
      "metadata": {
        "id": "5htW4ZeOI9cc"
      },
      "execution_count": 64,
      "outputs": []
    },
    {
      "cell_type": "code",
      "source": [
        "print(elements)\n",
        "#printing out the new list"
      ],
      "metadata": {
        "colab": {
          "base_uri": "https://localhost:8080/"
        },
        "id": "SvL5abQII9iD",
        "outputId": "8709e677-6957-4ae0-eea9-5bb7e40ba822"
      },
      "execution_count": 65,
      "outputs": [
        {
          "output_type": "stream",
          "name": "stdout",
          "text": [
            "['Hello my ', 'ame is Shaw', '']\n"
          ]
        }
      ]
    },
    {
      "cell_type": "code",
      "source": [
        "print(string.upper())\n",
        "#making the entire string uppercase with the upper function"
      ],
      "metadata": {
        "colab": {
          "base_uri": "https://localhost:8080/"
        },
        "id": "Rr7ihfkWKPTA",
        "outputId": "e45d4280-853b-4ea6-fa89-141c7e048914"
      },
      "execution_count": 66,
      "outputs": [
        {
          "output_type": "stream",
          "name": "stdout",
          "text": [
            "HELLO MY NAME IS SHAWN\n"
          ]
        }
      ]
    },
    {
      "cell_type": "code",
      "source": [
        "print(string.lower())\n",
        "#making the string lowercase with lower function"
      ],
      "metadata": {
        "colab": {
          "base_uri": "https://localhost:8080/"
        },
        "id": "JiJ0smgMKZ1b",
        "outputId": "eb59b463-0c9e-46d6-e839-907d0042f02c"
      },
      "execution_count": 67,
      "outputs": [
        {
          "output_type": "stream",
          "name": "stdout",
          "text": [
            "hello my name is shawn\n"
          ]
        }
      ]
    },
    {
      "cell_type": "markdown",
      "source": [
        "#The input() method"
      ],
      "metadata": {
        "id": "rNU7dCdbKciN"
      }
    },
    {
      "cell_type": "code",
      "source": [
        "data = input(\"Enter your name: \")\n",
        "print(f\"Hello {data}, how is your day?\")\n",
        "#Using input function to get input from the user and storing it in data, then printing it out using the format f"
      ],
      "metadata": {
        "colab": {
          "base_uri": "https://localhost:8080/"
        },
        "id": "Vu5w0ZtGKi11",
        "outputId": "2becbe1e-7bff-4837-978d-877fdca2f770"
      },
      "execution_count": 68,
      "outputs": [
        {
          "output_type": "stream",
          "name": "stdout",
          "text": [
            "Enter your name: Shawn\n",
            "Hello Shawn, how is your day?\n"
          ]
        }
      ]
    },
    {
      "cell_type": "code",
      "source": [
        "print(data)\n",
        "#printing out the varaible that the input was stored"
      ],
      "metadata": {
        "colab": {
          "base_uri": "https://localhost:8080/"
        },
        "id": "zEPg6xD2Kdvf",
        "outputId": "97cc055a-b5b8-4e3f-a3bc-4f89f4d935ba"
      },
      "execution_count": 69,
      "outputs": [
        {
          "output_type": "stream",
          "name": "stdout",
          "text": [
            "Shawn\n"
          ]
        }
      ]
    },
    {
      "cell_type": "code",
      "source": [
        "num = input(\"Enter a number:\")\n",
        "num\n"
      ],
      "metadata": {
        "colab": {
          "base_uri": "https://localhost:8080/",
          "height": 53
        },
        "id": "9iWyMTbyKdx7",
        "outputId": "85b3efc4-8c40-415b-8a65-ecfbe6b735b2"
      },
      "execution_count": 70,
      "outputs": [
        {
          "name": "stdout",
          "output_type": "stream",
          "text": [
            "Enter a number:56\n"
          ]
        },
        {
          "output_type": "execute_result",
          "data": {
            "text/plain": [
              "'56'"
            ],
            "application/vnd.google.colaboratory.intrinsic+json": {
              "type": "string"
            }
          },
          "metadata": {},
          "execution_count": 70
        }
      ]
    },
    {
      "cell_type": "code",
      "source": [
        "type(num)\n",
        "#getting the data type that the variable is holding"
      ],
      "metadata": {
        "colab": {
          "base_uri": "https://localhost:8080/"
        },
        "id": "5CmbnNBYKd1z",
        "outputId": "4025a91e-ca3c-48ed-ea6e-ee2840fef0b6"
      },
      "execution_count": 71,
      "outputs": [
        {
          "output_type": "execute_result",
          "data": {
            "text/plain": [
              "str"
            ]
          },
          "metadata": {},
          "execution_count": 71
        }
      ]
    },
    {
      "cell_type": "code",
      "source": [
        "int(num)\n",
        "#converting the string into a number with the int() function"
      ],
      "metadata": {
        "colab": {
          "base_uri": "https://localhost:8080/"
        },
        "id": "5GMzsSnkKd4P",
        "outputId": "75941aa5-89f7-4bd6-cdef-5f0f44219ac7"
      },
      "execution_count": 72,
      "outputs": [
        {
          "output_type": "execute_result",
          "data": {
            "text/plain": [
              "56"
            ]
          },
          "metadata": {},
          "execution_count": 72
        }
      ]
    },
    {
      "cell_type": "code",
      "source": [
        "name = input(\"What is your name?\")\n",
        "hobby = input(\"What is your favorite hobby?\")\n",
        "age = input(\"What is your age?\")\n",
        "\n",
        "print(f\"Hello, {name} I also like {hobby} and I am {age} years old\")\n",
        "#Getting three inputs and then printing them out with the f format"
      ],
      "metadata": {
        "colab": {
          "base_uri": "https://localhost:8080/"
        },
        "id": "FZQ9byYjKd6I",
        "outputId": "ca33b4ee-1784-4406-98cb-ca2109a01f3d"
      },
      "execution_count": 73,
      "outputs": [
        {
          "output_type": "stream",
          "name": "stdout",
          "text": [
            "What is your name?Shawn\n",
            "What is your favorite hobby?Biking\n",
            "What is your age?20\n",
            "Hello, Shawn I also like Biking and I am 20 years old\n"
          ]
        }
      ]
    },
    {
      "cell_type": "markdown",
      "source": [
        "#Numbers"
      ],
      "metadata": {
        "id": "VKbj8xbOUChF"
      }
    },
    {
      "cell_type": "code",
      "source": [
        "cats = 7\n",
        "money = -35.5\n",
        "x = 2+5j\n",
        "message = \"Hello Alice!\"\n",
        "#showing the different ways of storing different types of numbers"
      ],
      "metadata": {
        "id": "hFsU09GvKd8N"
      },
      "execution_count": 74,
      "outputs": []
    },
    {
      "cell_type": "code",
      "source": [
        "print(type(cats))\n",
        "print(type(money))\n",
        "print(type(x))\n",
        "print(type(message))\n",
        "#printing out each type"
      ],
      "metadata": {
        "id": "8qUkmTu0Kd92",
        "colab": {
          "base_uri": "https://localhost:8080/"
        },
        "outputId": "7635f778-e4ec-4133-ad84-474626340d65"
      },
      "execution_count": 75,
      "outputs": [
        {
          "output_type": "stream",
          "name": "stdout",
          "text": [
            "<class 'int'>\n",
            "<class 'float'>\n",
            "<class 'complex'>\n",
            "<class 'str'>\n"
          ]
        }
      ]
    },
    {
      "cell_type": "code",
      "source": [
        "shoes = 5\n",
        "print(f\"I own {shoes} pairs of shoes\")\n",
        "print(type(shoes))\n",
        "#using f format and printing the type of the variable used"
      ],
      "metadata": {
        "id": "q3lT8l-pKeBw",
        "colab": {
          "base_uri": "https://localhost:8080/"
        },
        "outputId": "9415923c-511f-49ea-f4c9-5253b5a744f5"
      },
      "execution_count": 76,
      "outputs": [
        {
          "output_type": "stream",
          "name": "stdout",
          "text": [
            "I own 5 pairs of shoes\n",
            "<class 'int'>\n"
          ]
        }
      ]
    },
    {
      "cell_type": "code",
      "source": [
        "a = 6\n",
        "b = 2.5\n",
        "print(f\"{a} * {b} = {a * b}\")\n",
        "print(type(a * b))\n",
        "#using multiplication in the format curly brackets"
      ],
      "metadata": {
        "colab": {
          "base_uri": "https://localhost:8080/"
        },
        "id": "5dZCxIX-zGff",
        "outputId": "fdacf5ac-299b-4603-89cb-6c99b60d2acc"
      },
      "execution_count": 77,
      "outputs": [
        {
          "output_type": "stream",
          "name": "stdout",
          "text": [
            "6 * 2.5 = 15.0\n",
            "<class 'float'>\n"
          ]
        }
      ]
    },
    {
      "cell_type": "markdown",
      "source": [
        "#Conversions"
      ],
      "metadata": {
        "id": "CgIrLzuqzI4M"
      }
    },
    {
      "cell_type": "code",
      "source": [
        "value = 3.8\n",
        "convert = int(value)\n",
        "print(convert)\n",
        "print(type(convert))\n",
        "#converting different types of numbers, like float to a integer"
      ],
      "metadata": {
        "colab": {
          "base_uri": "https://localhost:8080/"
        },
        "id": "qJHqDDEDzLct",
        "outputId": "ebacd5e4-24e1-42c2-a20c-5af2d01f7090"
      },
      "execution_count": 78,
      "outputs": [
        {
          "output_type": "stream",
          "name": "stdout",
          "text": [
            "3\n",
            "<class 'int'>\n"
          ]
        }
      ]
    },
    {
      "cell_type": "code",
      "source": [
        "number = int(\"25\")\n",
        "print(number)\n",
        "print(type(number))\n",
        "#turning a string into a integer"
      ],
      "metadata": {
        "colab": {
          "base_uri": "https://localhost:8080/"
        },
        "id": "JEeiDQ9YzNPo",
        "outputId": "3e3cef31-6fc8-4538-86aa-ff93867119a6"
      },
      "execution_count": 79,
      "outputs": [
        {
          "output_type": "stream",
          "name": "stdout",
          "text": [
            "25\n",
            "<class 'int'>\n"
          ]
        }
      ]
    },
    {
      "cell_type": "code",
      "source": [
        "num2 = 'twenty'\n",
        "print(len(num2))\n",
        "#printing the length of a string"
      ],
      "metadata": {
        "colab": {
          "base_uri": "https://localhost:8080/"
        },
        "id": "3V4fsH9fzNR4",
        "outputId": "5df983f1-6530-47b4-e9ac-f087a689202d"
      },
      "execution_count": 80,
      "outputs": [
        {
          "output_type": "stream",
          "name": "stdout",
          "text": [
            "6\n"
          ]
        }
      ]
    },
    {
      "cell_type": "code",
      "source": [
        "value = 78\n",
        "convert = float(value)\n",
        "print(convert)\n",
        "print(type(convert))\n",
        "convert = float(\"56.48\")\n",
        "print(convert)\n",
        "print(type(convert))\n",
        "#converting a integer into a float"
      ],
      "metadata": {
        "colab": {
          "base_uri": "https://localhost:8080/"
        },
        "id": "z6RTBQgrzNUV",
        "outputId": "5a948eb8-589c-45c1-e4ec-4c3c48c19897"
      },
      "execution_count": 81,
      "outputs": [
        {
          "output_type": "stream",
          "name": "stdout",
          "text": [
            "78.0\n",
            "<class 'float'>\n",
            "56.48\n",
            "<class 'float'>\n"
          ]
        }
      ]
    },
    {
      "cell_type": "code",
      "source": [
        "value = 38\n",
        "convert = complex(value)\n",
        "print(convert)\n",
        "print(type(convert))\n",
        "#turning a integer into a complex number with the 0j appened to the end"
      ],
      "metadata": {
        "colab": {
          "base_uri": "https://localhost:8080/"
        },
        "id": "g3inbaYDzNWi",
        "outputId": "812eeec4-4c5f-4e9b-b463-b79194b324cc"
      },
      "execution_count": 82,
      "outputs": [
        {
          "output_type": "stream",
          "name": "stdout",
          "text": [
            "(38+0j)\n",
            "<class 'complex'>\n"
          ]
        }
      ]
    },
    {
      "cell_type": "code",
      "source": [
        "value = 28.4875\n",
        "convert = str(value)\n",
        "print(convert)\n",
        "print(type(convert))\n",
        "#converting a float into a string"
      ],
      "metadata": {
        "colab": {
          "base_uri": "https://localhost:8080/"
        },
        "id": "bILdMcZyzNYl",
        "outputId": "2f0a7173-99ce-4131-839d-3458810d1fb5"
      },
      "execution_count": 83,
      "outputs": [
        {
          "output_type": "stream",
          "name": "stdout",
          "text": [
            "28.4875\n",
            "<class 'str'>\n"
          ]
        }
      ]
    },
    {
      "cell_type": "code",
      "source": [
        "pi = 3.14159\n",
        "print(type(pi))\n",
        "print(int(pi))\n",
        "print(complex(pi))\n",
        "print(str(pi))"
      ],
      "metadata": {
        "colab": {
          "base_uri": "https://localhost:8080/"
        },
        "id": "RBsEjccfzNai",
        "outputId": "eda8fd56-b0d7-4b56-e290-c57ebaa3f8d2"
      },
      "execution_count": 84,
      "outputs": [
        {
          "output_type": "stream",
          "name": "stdout",
          "text": [
            "<class 'float'>\n",
            "3\n",
            "(3.14159+0j)\n",
            "3.14159\n"
          ]
        }
      ]
    },
    {
      "cell_type": "markdown",
      "source": [
        "#Operations"
      ],
      "metadata": {
        "id": "mCBzRaLkzNcw"
      }
    },
    {
      "cell_type": "markdown",
      "source": [
        "The modulus operator\n"
      ],
      "metadata": {
        "id": "F5hQNa-NzNew"
      }
    },
    {
      "cell_type": "code",
      "source": [
        "print(259 % 4)\n",
        "#using modulus operator to find remainder of 259 divided by 4"
      ],
      "metadata": {
        "colab": {
          "base_uri": "https://localhost:8080/"
        },
        "id": "3k7OC5iJzNgp",
        "outputId": "9304f2a8-f595-4a18-a578-f4613310051f"
      },
      "execution_count": 85,
      "outputs": [
        {
          "output_type": "stream",
          "name": "stdout",
          "text": [
            "3\n"
          ]
        }
      ]
    },
    {
      "cell_type": "markdown",
      "source": [
        "The power operator"
      ],
      "metadata": {
        "id": "4mDg7vm0zo3x"
      }
    },
    {
      "cell_type": "code",
      "source": [
        "print(9 ** 4)\n",
        "#using the * sign twice to find a number to the power of another number"
      ],
      "metadata": {
        "colab": {
          "base_uri": "https://localhost:8080/"
        },
        "id": "4eo-yhcQ1Evg",
        "outputId": "f041c6e3-d50f-4fa3-d439-ab11f0ab43fb"
      },
      "execution_count": 86,
      "outputs": [
        {
          "output_type": "stream",
          "name": "stdout",
          "text": [
            "6561\n"
          ]
        }
      ]
    },
    {
      "cell_type": "markdown",
      "source": [
        "the floor operator"
      ],
      "metadata": {
        "id": "TzQ2ho4Zzo6D"
      }
    },
    {
      "cell_type": "code",
      "source": [
        "print(9 // 4)\n",
        "#finding the quotient of 9 divided 4 with the //"
      ],
      "metadata": {
        "colab": {
          "base_uri": "https://localhost:8080/"
        },
        "id": "ukTy7a-K1BEs",
        "outputId": "a62e284d-47f0-4887-ed41-66bd5f6554df"
      },
      "execution_count": 87,
      "outputs": [
        {
          "output_type": "stream",
          "name": "stdout",
          "text": [
            "2\n"
          ]
        }
      ]
    },
    {
      "cell_type": "markdown",
      "source": [
        "assignment operators"
      ],
      "metadata": {
        "id": "Hb42bkNGzo8L"
      }
    },
    {
      "cell_type": "code",
      "source": [
        "x += 4\n",
        "print(x)\n",
        "#using addition assignment which adds 4 to the number and then redefines x"
      ],
      "metadata": {
        "colab": {
          "base_uri": "https://localhost:8080/"
        },
        "id": "Wqgv-0w71Hkb",
        "outputId": "81963eb0-878f-4e9a-f972-56465994cc07"
      },
      "execution_count": 88,
      "outputs": [
        {
          "output_type": "stream",
          "name": "stdout",
          "text": [
            "(6+5j)\n"
          ]
        }
      ]
    },
    {
      "cell_type": "code",
      "source": [
        "x -= 4\n",
        "print(x)"
      ],
      "metadata": {
        "colab": {
          "base_uri": "https://localhost:8080/"
        },
        "id": "hLCQ66LK1K4M",
        "outputId": "9f81edd6-266a-4ddd-ba05-9e85398fc987"
      },
      "execution_count": 89,
      "outputs": [
        {
          "output_type": "stream",
          "name": "stdout",
          "text": [
            "(2+5j)\n"
          ]
        }
      ]
    },
    {
      "cell_type": "code",
      "source": [
        "x *= 4\n",
        "print(x)"
      ],
      "metadata": {
        "colab": {
          "base_uri": "https://localhost:8080/"
        },
        "id": "EIgfasSX1PCZ",
        "outputId": "8e7d3718-706a-45a6-a1e2-0bb24175e3dc"
      },
      "execution_count": 90,
      "outputs": [
        {
          "output_type": "stream",
          "name": "stdout",
          "text": [
            "(8+20j)\n"
          ]
        }
      ]
    },
    {
      "cell_type": "code",
      "source": [
        "x /= 4\n",
        "print(x)"
      ],
      "metadata": {
        "colab": {
          "base_uri": "https://localhost:8080/"
        },
        "id": "lRcwjDDv1PGy",
        "outputId": "226b214e-fd33-4de2-c559-317a62e0a5a4"
      },
      "execution_count": 91,
      "outputs": [
        {
          "output_type": "stream",
          "name": "stdout",
          "text": [
            "(2+5j)\n"
          ]
        }
      ]
    }
  ]
}