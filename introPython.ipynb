{
  "nbformat": 4,
  "nbformat_minor": 0,
  "metadata": {
    "colab": {
      "provenance": [],
      "authorship_tag": "ABX9TyOy5BmdmJF5FyJV0IKDJChN",
      "include_colab_link": true
    },
    "kernelspec": {
      "name": "python3",
      "display_name": "Python 3"
    },
    "language_info": {
      "name": "python"
    }
  },
  "cells": [
    {
      "cell_type": "markdown",
      "metadata": {
        "id": "view-in-github",
        "colab_type": "text"
      },
      "source": [
        "<a href=\"https://colab.research.google.com/github/shawns21/TTPBootcamp/blob/main/introPython.ipynb\" target=\"_parent\"><img src=\"https://colab.research.google.com/assets/colab-badge.svg\" alt=\"Open In Colab\"/></a>"
      ]
    },
    {
      "cell_type": "markdown",
      "source": [
        "# Python Basic: "
      ],
      "metadata": {
        "id": "gsiCWIp1HVYH"
      }
    },
    {
      "cell_type": "markdown",
      "source": [
        "## Strings & the print () function"
      ],
      "metadata": {
        "id": "BtCkjTD2Ijfn"
      }
    },
    {
      "cell_type": "code",
      "source": [
        "print(\"Hello World\")"
      ],
      "metadata": {
        "colab": {
          "base_uri": "https://localhost:8080/"
        },
        "id": "z-X5xWSmIja2",
        "outputId": "84ce8a1c-97c5-4695-bf4d-c8338d7c61ec"
      },
      "execution_count": 2,
      "outputs": [
        {
          "output_type": "stream",
          "name": "stdout",
          "text": [
            "Hello World\n"
          ]
        }
      ]
    },
    {
      "cell_type": "code",
      "source": [
        "print(\"\"\"YOYYYYYYYYYYYY\n",
        "\n",
        "YOOOOOOOOOOOOOOOO\n",
        "\n",
        "YOOYYYYYYYYYYYYYYYYYYY\"\"\")"
      ],
      "metadata": {
        "colab": {
          "base_uri": "https://localhost:8080/"
        },
        "id": "zMVnRCf2IjM9",
        "outputId": "23d99357-5f7b-4d01-bcf1-a18abac6fed1"
      },
      "execution_count": 3,
      "outputs": [
        {
          "output_type": "stream",
          "name": "stdout",
          "text": [
            "YOYYYYYYYYYYYY\n",
            "\n",
            "YOOOOOOOOOOOOOOOO\n",
            "\n",
            "YOOYYYYYYYYYYYYYYYYYYY\n"
          ]
        }
      ]
    },
    {
      "cell_type": "code",
      "source": [
        "print(\"YOYOYOOYOY\" + \"wdinwdinwd\" + str(34343))"
      ],
      "metadata": {
        "colab": {
          "base_uri": "https://localhost:8080/"
        },
        "id": "0KWoriu2IjJy",
        "outputId": "9f970a21-f6ab-47f0-8e57-dc72eb2011d6"
      },
      "execution_count": 4,
      "outputs": [
        {
          "output_type": "stream",
          "name": "stdout",
          "text": [
            "YOYOYOOYOYwdinwdinwd34343\n"
          ]
        }
      ]
    },
    {
      "cell_type": "markdown",
      "source": [
        "#Variables"
      ],
      "metadata": {
        "id": "bIydGMofIjG3"
      }
    },
    {
      "cell_type": "code",
      "source": [
        "x = 45"
      ],
      "metadata": {
        "id": "mKM7YNv_LVO1"
      },
      "execution_count": 6,
      "outputs": []
    },
    {
      "cell_type": "code",
      "source": [
        "for i in range(x):\n",
        "  print(i)"
      ],
      "metadata": {
        "id": "CNk56yZWIjDm"
      },
      "execution_count": null,
      "outputs": []
    },
    {
      "cell_type": "code",
      "source": [
        "x = \"Hello my name is shawn sinanan\"\n"
      ],
      "metadata": {
        "id": "cuqxuHZWIjAu"
      },
      "execution_count": 10,
      "outputs": []
    },
    {
      "cell_type": "code",
      "source": [
        "print(x[3], x[5], x[19])"
      ],
      "metadata": {
        "colab": {
          "base_uri": "https://localhost:8080/"
        },
        "id": "0AfpEiLcIi9e",
        "outputId": "f858f975-7467-451b-abc7-6de259ccfbd8"
      },
      "execution_count": 11,
      "outputs": [
        {
          "output_type": "stream",
          "name": "stdout",
          "text": [
            "l   a\n"
          ]
        }
      ]
    },
    {
      "cell_type": "code",
      "source": [],
      "metadata": {
        "id": "28b5JbDoRAUz"
      },
      "execution_count": null,
      "outputs": []
    },
    {
      "cell_type": "code",
      "source": [
        "string = f\"yoyoyooyoyoy {x} asdasdwasd\""
      ],
      "metadata": {
        "id": "d8MWSdJMIisL"
      },
      "execution_count": 12,
      "outputs": []
    },
    {
      "cell_type": "code",
      "source": [
        "string"
      ],
      "metadata": {
        "colab": {
          "base_uri": "https://localhost:8080/",
          "height": 35
        },
        "id": "zdUV5qjrIioL",
        "outputId": "314e631f-9323-4c4b-e5eb-d65674098114"
      },
      "execution_count": 13,
      "outputs": [
        {
          "output_type": "execute_result",
          "data": {
            "text/plain": [
              "'yoyoyooyoyoy Hello my name is shawn sinanan asdasdwasd'"
            ],
            "application/vnd.google.colaboratory.intrinsic+json": {
              "type": "string"
            }
          },
          "metadata": {},
          "execution_count": 13
        }
      ]
    },
    {
      "cell_type": "code",
      "source": [
        "x = \"ZHELLLLLLLLLLLLLP\""
      ],
      "metadata": {
        "id": "09niBL3iIiki"
      },
      "execution_count": 14,
      "outputs": []
    },
    {
      "cell_type": "code",
      "source": [
        "string = f\"yoyo   {x}\""
      ],
      "metadata": {
        "id": "y-cPKP4DSVOi"
      },
      "execution_count": 16,
      "outputs": []
    },
    {
      "cell_type": "code",
      "source": [
        "string"
      ],
      "metadata": {
        "colab": {
          "base_uri": "https://localhost:8080/",
          "height": 35
        },
        "id": "TPUzAoD6SVVe",
        "outputId": "9cf108c3-15bd-471c-f549-f00ab752ba5c"
      },
      "execution_count": 17,
      "outputs": [
        {
          "output_type": "execute_result",
          "data": {
            "text/plain": [
              "'yoyo   ZHELLLLLLLLLLLLLP'"
            ],
            "application/vnd.google.colaboratory.intrinsic+json": {
              "type": "string"
            }
          },
          "metadata": {},
          "execution_count": 17
        }
      ]
    },
    {
      "cell_type": "code",
      "source": [],
      "metadata": {
        "id": "US9Op8snSVX9"
      },
      "execution_count": null,
      "outputs": []
    },
    {
      "cell_type": "code",
      "source": [],
      "metadata": {
        "id": "SCkldycoSVaN"
      },
      "execution_count": null,
      "outputs": []
    },
    {
      "cell_type": "code",
      "source": [],
      "metadata": {
        "id": "Ev1AxJhESVcH"
      },
      "execution_count": null,
      "outputs": []
    },
    {
      "cell_type": "code",
      "source": [],
      "metadata": {
        "id": "GR45fPS1SVf4"
      },
      "execution_count": null,
      "outputs": []
    },
    {
      "cell_type": "code",
      "source": [],
      "metadata": {
        "id": "PJ_9N3UaSViZ"
      },
      "execution_count": null,
      "outputs": []
    }
  ]
}