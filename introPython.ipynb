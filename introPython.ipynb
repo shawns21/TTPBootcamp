{
  "nbformat": 4,
  "nbformat_minor": 0,
  "metadata": {
    "colab": {
      "provenance": [],
      "authorship_tag": "ABX9TyOXOK/i0DN24nCeKM2xKT47",
      "include_colab_link": true
    },
    "kernelspec": {
      "name": "python3",
      "display_name": "Python 3"
    },
    "language_info": {
      "name": "python"
    }
  },
  "cells": [
    {
      "cell_type": "markdown",
      "metadata": {
        "id": "view-in-github",
        "colab_type": "text"
      },
      "source": [
        "<a href=\"https://colab.research.google.com/github/shawns21/TTPBootcamp/blob/main/introPython.ipynb\" target=\"_parent\"><img src=\"https://colab.research.google.com/assets/colab-badge.svg\" alt=\"Open In Colab\"/></a>"
      ]
    },
    {
      "cell_type": "markdown",
      "source": [
        "# Python Basic: "
      ],
      "metadata": {
        "id": "gsiCWIp1HVYH"
      }
    },
    {
      "cell_type": "markdown",
      "source": [
        "## Strings & the print () function"
      ],
      "metadata": {
        "id": "BtCkjTD2Ijfn"
      }
    },
    {
      "cell_type": "code",
      "source": [
        "print(\"Hello World\")"
      ],
      "metadata": {
        "colab": {
          "base_uri": "https://localhost:8080/"
        },
        "id": "z-X5xWSmIja2",
        "outputId": "84ce8a1c-97c5-4695-bf4d-c8338d7c61ec"
      },
      "execution_count": null,
      "outputs": [
        {
          "output_type": "stream",
          "name": "stdout",
          "text": [
            "Hello World\n"
          ]
        }
      ]
    },
    {
      "cell_type": "code",
      "source": [
        "print(\"\"\"Hello\n",
        "\n",
        "My Name Is\n",
        "\n",
        "Shawn\"\"\")"
      ],
      "metadata": {
        "colab": {
          "base_uri": "https://localhost:8080/"
        },
        "id": "zMVnRCf2IjM9",
        "outputId": "dfad6ea6-c882-43c7-f81a-7aec0cf17cef"
      },
      "execution_count": null,
      "outputs": [
        {
          "output_type": "stream",
          "name": "stdout",
          "text": [
            "Hello\n",
            "\n",
            "My Name Is\n",
            "\n",
            "Shawn\n"
          ]
        }
      ]
    },
    {
      "cell_type": "code",
      "source": [
        "print(\"My favorite\" + \"number is\" + str(33))"
      ],
      "metadata": {
        "colab": {
          "base_uri": "https://localhost:8080/"
        },
        "id": "0KWoriu2IjJy",
        "outputId": "1ee57058-e49e-4d77-879f-9d13591516b0"
      },
      "execution_count": null,
      "outputs": [
        {
          "output_type": "stream",
          "name": "stdout",
          "text": [
            "My favoritenumber is33\n"
          ]
        }
      ]
    },
    {
      "cell_type": "markdown",
      "source": [
        "#Variables"
      ],
      "metadata": {
        "id": "bIydGMofIjG3"
      }
    },
    {
      "cell_type": "code",
      "source": [
        "\n",
        "x = 45"
      ],
      "metadata": {
        "id": "mKM7YNv_LVO1"
      },
      "execution_count": 18,
      "outputs": []
    },
    {
      "cell_type": "code",
      "source": [
        "x = \"Shawn Sinanan is 20 years old\"\n"
      ],
      "metadata": {
        "id": "LOEArQW3UQ-O"
      },
      "execution_count": 19,
      "outputs": []
    },
    {
      "cell_type": "code",
      "source": [
        "print(x[3], x[5], x[12])"
      ],
      "metadata": {
        "colab": {
          "base_uri": "https://localhost:8080/"
        },
        "id": "0AfpEiLcIi9e",
        "outputId": "0f7a8169-975e-41e2-fe1f-17410bf94a54"
      },
      "execution_count": 20,
      "outputs": [
        {
          "output_type": "stream",
          "name": "stdout",
          "text": [
            "w   n\n"
          ]
        }
      ]
    },
    {
      "cell_type": "code",
      "source": [
        "string = f\"Here is a fact: {x}\""
      ],
      "metadata": {
        "id": "d8MWSdJMIisL"
      },
      "execution_count": 21,
      "outputs": []
    },
    {
      "cell_type": "code",
      "source": [
        "string"
      ],
      "metadata": {
        "colab": {
          "base_uri": "https://localhost:8080/",
          "height": 35
        },
        "id": "zdUV5qjrIioL",
        "outputId": "e4b462a5-5c0a-41c3-f7a6-190d9f5db867"
      },
      "execution_count": 22,
      "outputs": [
        {
          "output_type": "execute_result",
          "data": {
            "text/plain": [
              "'Here is a fact: Shawn Sinanan is 20 years old'"
            ],
            "application/vnd.google.colaboratory.intrinsic+json": {
              "type": "string"
            }
          },
          "metadata": {},
          "execution_count": 22
        }
      ]
    },
    {
      "cell_type": "code",
      "source": [
        "x = \"Monday\""
      ],
      "metadata": {
        "id": "09niBL3iIiki"
      },
      "execution_count": 23,
      "outputs": []
    },
    {
      "cell_type": "code",
      "source": [
        "string = f\"Today is {x}\""
      ],
      "metadata": {
        "id": "y-cPKP4DSVOi"
      },
      "execution_count": 24,
      "outputs": []
    },
    {
      "cell_type": "code",
      "source": [
        "string"
      ],
      "metadata": {
        "colab": {
          "base_uri": "https://localhost:8080/",
          "height": 35
        },
        "id": "TPUzAoD6SVVe",
        "outputId": "ab62318f-59df-42da-f937-e6805fd02b2b"
      },
      "execution_count": 26,
      "outputs": [
        {
          "output_type": "execute_result",
          "data": {
            "text/plain": [
              "'Today is Monday'"
            ],
            "application/vnd.google.colaboratory.intrinsic+json": {
              "type": "string"
            }
          },
          "metadata": {},
          "execution_count": 26
        }
      ]
    },
    {
      "cell_type": "code",
      "source": [],
      "metadata": {
        "id": "bBGWLu8hYyOr"
      },
      "execution_count": null,
      "outputs": []
    }
  ]
}