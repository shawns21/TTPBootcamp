{
  "nbformat": 4,
  "nbformat_minor": 0,
  "metadata": {
    "colab": {
      "provenance": [],
      "include_colab_link": true
    },
    "kernelspec": {
      "name": "python3",
      "display_name": "Python 3"
    },
    "language_info": {
      "name": "python"
    }
  },
  "cells": [
    {
      "cell_type": "markdown",
      "metadata": {
        "id": "view-in-github",
        "colab_type": "text"
      },
      "source": [
        "<a href=\"https://colab.research.google.com/github/shawns21/TTPBootcamp/blob/main/Intro_to_Python_III.ipynb\" target=\"_parent\"><img src=\"https://colab.research.google.com/assets/colab-badge.svg\" alt=\"Open In Colab\"/></a>"
      ]
    },
    {
      "cell_type": "markdown",
      "source": [
        "# Conditionals"
      ],
      "metadata": {
        "id": "Fiv9yD2anvvQ"
      }
    },
    {
      "cell_type": "markdown",
      "source": [
        "## The `if` Statement"
      ],
      "metadata": {
        "id": "7uDhuKO6oHpD"
      }
    },
    {
      "cell_type": "code",
      "source": [
        "night = False"
      ],
      "metadata": {
        "id": "CdxsSPEQoHmS"
      },
      "execution_count": null,
      "outputs": []
    },
    {
      "cell_type": "code",
      "source": [
        "type(night)"
      ],
      "metadata": {
        "colab": {
          "base_uri": "https://localhost:8080/"
        },
        "id": "f5gEh9T0oHi6",
        "outputId": "4b80d099-da6e-4076-821f-adb958265a92"
      },
      "execution_count": null,
      "outputs": [
        {
          "output_type": "execute_result",
          "data": {
            "text/plain": [
              "bool"
            ]
          },
          "metadata": {},
          "execution_count": 5
        }
      ]
    },
    {
      "cell_type": "code",
      "source": [
        "# if (something) -> then do something... if not -> then do something else."
      ],
      "metadata": {
        "id": "wcJnwp7p3epy"
      },
      "execution_count": null,
      "outputs": []
    },
    {
      "cell_type": "code",
      "source": [
        "if night: # == True:\n",
        "    print(\"It's night. Sleeping\")\n",
        "else:\n",
        "    print(\"It's day. Being active.\")\n",
        "\n",
        "\n",
        "print(\"Out of the if statement\")"
      ],
      "metadata": {
        "colab": {
          "base_uri": "https://localhost:8080/"
        },
        "id": "wIyWEiEvoHfv",
        "outputId": "7aa0d701-96e9-48cf-9dfe-c68c58aa327d"
      },
      "execution_count": null,
      "outputs": [
        {
          "output_type": "stream",
          "name": "stdout",
          "text": [
            "It's day. Being active.\n",
            "Out of the if statement\n"
          ]
        }
      ]
    },
    {
      "cell_type": "code",
      "source": [
        "a, b, c = 100, 50, 20\n",
        "if a > b and b > c:\n",
        "    print(f\"{a} greater than {c}\")\n",
        "#using if statement to print out sentence if a boolean statement is true"
      ],
      "metadata": {
        "colab": {
          "base_uri": "https://localhost:8080/"
        },
        "id": "0Z8JpPV2oHcV",
        "outputId": "44b08fb3-26d7-423e-854f-608638b3085c"
      },
      "execution_count": null,
      "outputs": [
        {
          "output_type": "stream",
          "name": "stdout",
          "text": [
            "100 greater than 20\n"
          ]
        }
      ]
    },
    {
      "cell_type": "code",
      "source": [
        "data = input(\"Do you have the keys? (yes/no)\")\n",
        "if data.lower() == \"yes\":\n",
        "    print(\"Starting the car\")\n",
        "else:\n",
        "    print(\"Car cannot start without the keys\")\n",
        "#using if else to print out two options based on if yes or anything else is entered"
      ],
      "metadata": {
        "colab": {
          "base_uri": "https://localhost:8080/"
        },
        "id": "Vqyxy52XoHY9",
        "outputId": "a809a9eb-8a54-49a2-e6e9-2d9780a43111"
      },
      "execution_count": null,
      "outputs": [
        {
          "output_type": "stream",
          "name": "stdout",
          "text": [
            "Do you have the keys? (yes/no)no\n",
            "Car cannot start without the keys\n"
          ]
        }
      ]
    },
    {
      "cell_type": "code",
      "source": [
        "data = input(\"Please enter the current hour (0-23): \")\n",
        "hour = int(data)\n",
        "if hour < 12:\n",
        "    print(f\"It's {hour} am\")\n",
        "else:\n",
        "    print(f\"It's {hour-12} pm\")\n",
        "#using string formating when if statement is checked1"
      ],
      "metadata": {
        "colab": {
          "base_uri": "https://localhost:8080/"
        },
        "id": "Ze54usJDoHVT",
        "outputId": "e04dc4a6-15c2-4efd-ab03-1ca142949c94"
      },
      "execution_count": null,
      "outputs": [
        {
          "output_type": "stream",
          "name": "stdout",
          "text": [
            "Please enter the current hour (0-23): 3\n",
            "It's 3 am\n"
          ]
        }
      ]
    },
    {
      "cell_type": "markdown",
      "source": [
        "#### Nested `if` Statements"
      ],
      "metadata": {
        "id": "36KpFpWe437Q"
      }
    },
    {
      "cell_type": "code",
      "source": [
        "pet_store = ['cat', 'dog', 'rabbit']\n",
        "has_cat_food = True\n",
        "\n",
        "if 'cat' in pet_store:\n",
        "    print(\"Alright! they have a cat for me\")\n",
        "\n",
        "    if has_cat_food:\n",
        "        print('Buying cat and cat food')\n",
        "\n",
        "    else:\n",
        "        print('Buying the cat only')\n",
        "        # more code inside the else block\n",
        "    # more code\n",
        "\n",
        "else:\n",
        "    print('Ask pet store to get cat')\n",
        "#if statement to check if word is in list, if not then print out a differetn statement"
      ],
      "metadata": {
        "colab": {
          "base_uri": "https://localhost:8080/"
        },
        "id": "Y4kBcuhToHRx",
        "outputId": "176c8e37-ac54-4f86-b63e-205c482ddd78"
      },
      "execution_count": null,
      "outputs": [
        {
          "output_type": "stream",
          "name": "stdout",
          "text": [
            "Alright! they have a cat for me\n",
            "Buying cat and cat food\n"
          ]
        }
      ]
    },
    {
      "cell_type": "markdown",
      "source": [
        "#### More on indentation!"
      ],
      "metadata": {
        "id": "u2ZILAE8oHOZ"
      }
    },
    {
      "cell_type": "code",
      "source": [
        "if True:\n",
        "    print(\"This is part of the if statement\")\n",
        "print(\"The if statement has finished\")\n",
        "    # print(\"Not allowed\")\n",
        "#printing a sentence if boolean value equals true, then printing another one regardless of the boolean statment\n"
      ],
      "metadata": {
        "colab": {
          "base_uri": "https://localhost:8080/"
        },
        "id": "AKnahsXBoHK4",
        "outputId": "b8a2fc05-d034-42cc-94d2-be1143d09b75"
      },
      "execution_count": null,
      "outputs": [
        {
          "output_type": "stream",
          "name": "stdout",
          "text": [
            "This is part of the if statement\n",
            "The if statement has finished\n"
          ]
        }
      ]
    },
    {
      "cell_type": "code",
      "source": [
        "if 5 > 3:\n",
        "    print(\"This is part of expression 1\")\n",
        "\n",
        "    if 10 > 5:\n",
        "        print(\"This is part of expression2\")\n",
        "\n",
        "    print(\"This is also part of expression 1\")\n",
        "\n",
        "print(\"This is not part of any if statement\")\n",
        "    # print(\"This is not allowed\")\n",
        "#Using a multilines print statement"
      ],
      "metadata": {
        "colab": {
          "base_uri": "https://localhost:8080/"
        },
        "id": "tEp1_mNCoHHu",
        "outputId": "0cfdd2cf-c375-462d-b05a-eafef31a2b33"
      },
      "execution_count": null,
      "outputs": [
        {
          "output_type": "stream",
          "name": "stdout",
          "text": [
            "This is part of expression 1\n",
            "This is part of expression2\n",
            "This is also part of expression 1\n",
            "This is not part of any if statement\n"
          ]
        }
      ]
    },
    {
      "cell_type": "markdown",
      "source": [
        "#### The `if_elif_else' Statement"
      ],
      "metadata": {
        "id": "Cd9t8aC-5xws"
      }
    },
    {
      "cell_type": "code",
      "source": [
        "age = int(input(\"Please enter your age: \"))\n",
        "\n",
        "if age < 18:\n",
        "    print(\"You are a minor\")\n",
        "elif age < 21:\n",
        "    print(\"You are an adult but cannot drink alcohol\")\n",
        "elif age < 35:\n",
        "    print(\"You are younger than 35\")\n",
        "else:\n",
        "    print(\"You are an adult\")\n",
        "\n",
        "print(\"If statement finished\")\n",
        "#Using elif to check if the input is above or below a certain number, if none apply then print out last statement"
      ],
      "metadata": {
        "colab": {
          "base_uri": "https://localhost:8080/"
        },
        "id": "e7p6peme6A7X",
        "outputId": "03faec48-cee7-417a-bac2-11b03a692a21"
      },
      "execution_count": null,
      "outputs": [
        {
          "output_type": "stream",
          "name": "stdout",
          "text": [
            "Please enter your age: 33\n",
            "You are younger than 35\n",
            "If statement finished\n"
          ]
        }
      ]
    },
    {
      "cell_type": "markdown",
      "source": [
        "#### Shorthand `if` statement"
      ],
      "metadata": {
        "id": "4LPer4-o6A42"
      }
    },
    {
      "cell_type": "code",
      "source": [
        "a, b = 50, 20"
      ],
      "metadata": {
        "id": "mrx1vABn6A10"
      },
      "execution_count": null,
      "outputs": []
    },
    {
      "cell_type": "code",
      "source": [
        "if a > b: print(\"a > b\")\n",
        "#single line if statements"
      ],
      "metadata": {
        "colab": {
          "base_uri": "https://localhost:8080/"
        },
        "id": "7sYn7Bab6Ay8",
        "outputId": "8160bdf0-0892-4fe5-df1e-b5f432e27be0"
      },
      "execution_count": null,
      "outputs": [
        {
          "output_type": "stream",
          "name": "stdout",
          "text": [
            "a > b\n"
          ]
        }
      ]
    },
    {
      "cell_type": "code",
      "source": [
        "print(\"a > b\") if a > b else print(\"b > a\")\n",
        "#having if statement after what you want the code to run"
      ],
      "metadata": {
        "colab": {
          "base_uri": "https://localhost:8080/"
        },
        "id": "W7QJRFYT6Avz",
        "outputId": "a1087b40-7926-46ab-b3ff-ba1668e47644"
      },
      "execution_count": null,
      "outputs": [
        {
          "output_type": "stream",
          "name": "stdout",
          "text": [
            "a > b\n"
          ]
        }
      ]
    },
    {
      "cell_type": "code",
      "source": [
        "max = a if a > b else b\n",
        "print(max)\n"
      ],
      "metadata": {
        "colab": {
          "base_uri": "https://localhost:8080/"
        },
        "id": "lB3m8tsD6Asw",
        "outputId": "79bbd020-7522-4d6a-a4c1-ede8055e7d01"
      },
      "execution_count": null,
      "outputs": [
        {
          "output_type": "stream",
          "name": "stdout",
          "text": [
            "50\n"
          ]
        }
      ]
    },
    {
      "cell_type": "markdown",
      "source": [
        "#### The `pass` keyword"
      ],
      "metadata": {
        "id": "1OQDP7076ApN"
      }
    },
    {
      "cell_type": "code",
      "source": [
        "has_cat = False\n",
        "\n",
        "if has_cat: # This means --> if has_cat == True\n",
        "    pass\n",
        "else:\n",
        "    print(\"You should get a cat\")\n",
        "#continuing if statement if some statement is true with the pass keyword,"
      ],
      "metadata": {
        "colab": {
          "base_uri": "https://localhost:8080/"
        },
        "id": "KhYmj2uh6AmO",
        "outputId": "6cdeec81-0493-4eb2-c602-aef4189e7101"
      },
      "execution_count": null,
      "outputs": [
        {
          "output_type": "stream",
          "name": "stdout",
          "text": [
            "You should get a cat\n"
          ]
        }
      ]
    },
    {
      "cell_type": "code",
      "source": [
        "has_dog = False\n",
        "\n",
        "if has_dog:\n",
        "    print(\"Awesome!\")\n",
        "else:\n",
        "    pass\n",
        "    print(\"You should get one\")\n",
        "#"
      ],
      "metadata": {
        "colab": {
          "base_uri": "https://localhost:8080/"
        },
        "id": "S2tu1_KF7RBr",
        "outputId": "acaf48b5-4bb5-4e1b-acdc-3b6d8e267e6c"
      },
      "execution_count": null,
      "outputs": [
        {
          "output_type": "stream",
          "name": "stdout",
          "text": [
            "You should get one\n"
          ]
        }
      ]
    },
    {
      "cell_type": "markdown",
      "source": [
        "#### Practice"
      ],
      "metadata": {
        "id": "1SDg1aaB7W8E"
      }
    },
    {
      "cell_type": "code",
      "source": [
        "import random"
      ],
      "metadata": {
        "id": "0AUzVfB49GUF"
      },
      "execution_count": null,
      "outputs": []
    },
    {
      "cell_type": "code",
      "source": [
        "nb = random.randint(0, 100)\n",
        "print(f\"Number {nb} is even\") if nb % 2 == 0 else print(f\"Number {nb} is odd\")\n",
        "#using random number between 0 and 100 and printout out a certain sentence based on if it is odd or even,"
      ],
      "metadata": {
        "colab": {
          "base_uri": "https://localhost:8080/"
        },
        "id": "ynx4H7mg9GRG",
        "outputId": "c4a24b1a-5545-4bca-9012-3293ceba1c2b"
      },
      "execution_count": null,
      "outputs": [
        {
          "output_type": "stream",
          "name": "stdout",
          "text": [
            "Number 75 is odd\n"
          ]
        }
      ]
    },
    {
      "cell_type": "code",
      "source": [
        "numb = int(input('Please enter a number from 0-100: '))\n",
        "print(f\"Number {numb} is even\") if numb % 2 == 0 else print(f\"Number {numb} is odd\")\n",
        "\n"
      ],
      "metadata": {
        "colab": {
          "base_uri": "https://localhost:8080/"
        },
        "id": "oUzGQUth9GON",
        "outputId": "32281741-85a5-4611-db8c-2503ade6dbde"
      },
      "execution_count": null,
      "outputs": [
        {
          "output_type": "stream",
          "name": "stdout",
          "text": [
            "Please enter a number from 0-100: 5\n",
            "Number 5 is odd\n"
          ]
        }
      ]
    },
    {
      "cell_type": "markdown",
      "source": [
        "# Loops"
      ],
      "metadata": {
        "id": "avkHk-bk9GLN"
      }
    },
    {
      "cell_type": "markdown",
      "source": [
        "## The `for` Loop"
      ],
      "metadata": {
        "id": "NA1vJTdE9GIR"
      }
    },
    {
      "cell_type": "code",
      "source": [
        "animals = ['cat', 'dog', 'horse']\n",
        "for animal in animals:\n",
        "    print(f\"There is a {animal}\")\n",
        "#using for loop to go through list items and printing them out"
      ],
      "metadata": {
        "colab": {
          "base_uri": "https://localhost:8080/"
        },
        "id": "y0gOneuT9GFJ",
        "outputId": "acd7523b-ece6-4b0e-d440-46603125f5df"
      },
      "execution_count": null,
      "outputs": [
        {
          "output_type": "stream",
          "name": "stdout",
          "text": [
            "There is a cat\n",
            "There is a dog\n",
            "There is a horse\n"
          ]
        }
      ]
    },
    {
      "cell_type": "code",
      "source": [
        "for letter in 'pineapple':\n",
        "    print(letter.upper())\n",
        "#iterating through a string and making them uppercase"
      ],
      "metadata": {
        "colab": {
          "base_uri": "https://localhost:8080/"
        },
        "id": "_9bzWmImAvuP",
        "outputId": "35eb0089-ddfc-40f7-89e8-e5fd1fd1e990"
      },
      "execution_count": null,
      "outputs": [
        {
          "output_type": "stream",
          "name": "stdout",
          "text": [
            "P\n",
            "I\n",
            "N\n",
            "E\n",
            "A\n",
            "P\n",
            "P\n",
            "L\n",
            "E\n"
          ]
        }
      ]
    },
    {
      "cell_type": "code",
      "source": [
        "for number in range(0, 20, 2):\n",
        "    print(f\"{number} is an even number\")\n",
        "#iterating from 0 to 20, going up by 2\n"
      ],
      "metadata": {
        "colab": {
          "base_uri": "https://localhost:8080/"
        },
        "id": "RtZD_cSgAvq9",
        "outputId": "a24a981f-f410-44bf-93ef-5e8c84876209"
      },
      "execution_count": null,
      "outputs": [
        {
          "output_type": "stream",
          "name": "stdout",
          "text": [
            "0 is an even number\n",
            "2 is an even number\n",
            "4 is an even number\n",
            "6 is an even number\n",
            "8 is an even number\n",
            "10 is an even number\n",
            "12 is an even number\n",
            "14 is an even number\n",
            "16 is an even number\n",
            "18 is an even number\n"
          ]
        }
      ]
    },
    {
      "cell_type": "markdown",
      "source": [
        "#### `break` and `continue`"
      ],
      "metadata": {
        "id": "MOqpf6vYAvn0"
      }
    },
    {
      "cell_type": "code",
      "source": [
        "for number in range(0, 20, 2):\n",
        "    print(f\"{number} is an even number\")\n",
        "    if number == 10:\n",
        "        print(\"On ho! Not 10\")\n",
        "        break\n",
        "print(\"Next steps in out code\")\n",
        "#iterating 0 through 20 by 2, and then when your at 10 stop the for loop\n"
      ],
      "metadata": {
        "colab": {
          "base_uri": "https://localhost:8080/"
        },
        "id": "vQhUW4kuAvlL",
        "outputId": "ea4c3544-4ea3-4234-daaf-f0f587234381"
      },
      "execution_count": null,
      "outputs": [
        {
          "output_type": "stream",
          "name": "stdout",
          "text": [
            "0 is an even number\n",
            "2 is an even number\n",
            "4 is an even number\n",
            "6 is an even number\n",
            "8 is an even number\n",
            "10 is an even number\n",
            "On ho! Not 10\n",
            "Next steps in out code\n"
          ]
        }
      ]
    },
    {
      "cell_type": "code",
      "source": [
        "for number in range(0, 20, 2):\n",
        "    if number == 10:\n",
        "        print(\"We are not executing 10\")\n",
        "        continue\n",
        "    print(f\"{number} is an even number\")\n",
        "#contiuing the for loop when the nubmer equals 10 after printing a statement"
      ],
      "metadata": {
        "colab": {
          "base_uri": "https://localhost:8080/"
        },
        "id": "QGpnU--oAvh5",
        "outputId": "c01fec1c-18bf-4079-f122-72bc7ef784b7"
      },
      "execution_count": null,
      "outputs": [
        {
          "output_type": "stream",
          "name": "stdout",
          "text": [
            "0 is an even number\n",
            "2 is an even number\n",
            "4 is an even number\n",
            "6 is an even number\n",
            "8 is an even number\n",
            "We are not executing 10\n",
            "12 is an even number\n",
            "14 is an even number\n",
            "16 is an even number\n",
            "18 is an even number\n"
          ]
        }
      ]
    },
    {
      "cell_type": "markdown",
      "source": [
        "#### Practice"
      ],
      "metadata": {
        "id": "3DrPQWN3AvfH"
      }
    },
    {
      "cell_type": "code",
      "source": [
        "for i in range(0, 10):\n",
        "    print(\"Hello for loop\")\n",
        "#for loop that iterates from 0 to 10 giving i a value of 0 to 10\n"
      ],
      "metadata": {
        "colab": {
          "base_uri": "https://localhost:8080/"
        },
        "id": "15o6GY0LAvb_",
        "outputId": "6d737b7e-2afb-4252-9a4f-c2d9e997be9d"
      },
      "execution_count": null,
      "outputs": [
        {
          "output_type": "stream",
          "name": "stdout",
          "text": [
            "Hello for loop\n",
            "Hello for loop\n",
            "Hello for loop\n",
            "Hello for loop\n",
            "Hello for loop\n",
            "Hello for loop\n",
            "Hello for loop\n",
            "Hello for loop\n",
            "Hello for loop\n",
            "Hello for loop\n"
          ]
        }
      ]
    },
    {
      "cell_type": "code",
      "source": [
        "sum = 0\n",
        "for number in range(0, 101):\n",
        "    if number % 10 == 0:\n",
        "        continue\n",
        "    sum += number\n",
        "print(f\"The sum is {sum}\")\n",
        "#doing a modulus operation on each number to see if the remainder is 0 when divided by 10, then adding that number if the statement is true"
      ],
      "metadata": {
        "colab": {
          "base_uri": "https://localhost:8080/"
        },
        "id": "M34qYiKiAvY2",
        "outputId": "85975860-9ef5-416d-879e-08a2584d88a3"
      },
      "execution_count": null,
      "outputs": [
        {
          "output_type": "stream",
          "name": "stdout",
          "text": [
            "The sum is 4500\n"
          ]
        }
      ]
    },
    {
      "cell_type": "code",
      "source": [
        "customers = {\n",
        "    'Alice': 4,\n",
        "    'Judy': 8,\n",
        "    'Anna': 6\n",
        "}\n",
        "for customer in customers:\n",
        "    print(\"{} has made {} purchases\".format(customer, customers[customer]))\n",
        "#iterating through keys in the dictionary and then formating it into the string so it prints out correctly in the sentence"
      ],
      "metadata": {
        "colab": {
          "base_uri": "https://localhost:8080/"
        },
        "id": "kL_ohNOm9GB6",
        "outputId": "b7fee2ce-e5ea-4177-acd6-169da4e46bc9"
      },
      "execution_count": null,
      "outputs": [
        {
          "output_type": "stream",
          "name": "stdout",
          "text": [
            "Alice has made 4 purchases\n",
            "Judy has made 8 purchases\n",
            "Anna has made 6 purchases\n"
          ]
        }
      ]
    },
    {
      "cell_type": "markdown",
      "source": [
        "#### Using `else` with `for` Loops"
      ],
      "metadata": {
        "id": "3FxWOHuIBYXD"
      }
    },
    {
      "cell_type": "code",
      "source": [
        "numbers1 = [1, 5, 9, 5, 7, 3]\n",
        "numbers2 = [2, 8, 6, 2, 4, 10]\n",
        "\n",
        "for number in numbers2:\n",
        "    if number % 2 == 0:\n",
        "        print(\"List contains at least 1 even number\")\n",
        "        break\n",
        "else:\n",
        "    print(\"The list does not contain any even numbers\")\n",
        "#iterating through the second list to check if each number is even or not"
      ],
      "metadata": {
        "colab": {
          "base_uri": "https://localhost:8080/"
        },
        "id": "EwlC2HMEBYUb",
        "outputId": "ae339b2c-f943-450f-f7f6-b6ad7bd23b18"
      },
      "execution_count": null,
      "outputs": [
        {
          "output_type": "stream",
          "name": "stdout",
          "text": [
            "List contains at least 1 even number\n"
          ]
        }
      ]
    },
    {
      "cell_type": "markdown",
      "source": [
        "#### Nested Loops"
      ],
      "metadata": {
        "id": "Yiash3amBYSD"
      }
    },
    {
      "cell_type": "code",
      "source": [
        "for x in range(6):\n",
        "    for y in range(6):\n",
        "        print(f\"{x} * {y} = {x * y}\")\n",
        "#using a for loop inside a for loop and formating each operation into a string"
      ],
      "metadata": {
        "colab": {
          "base_uri": "https://localhost:8080/"
        },
        "id": "9JAswvH3BYO6",
        "outputId": "555ca0a1-d3e7-4b42-e12e-a0e8b1c7c3ce"
      },
      "execution_count": null,
      "outputs": [
        {
          "output_type": "stream",
          "name": "stdout",
          "text": [
            "0 * 0 = 0\n",
            "0 * 1 = 0\n",
            "0 * 2 = 0\n",
            "0 * 3 = 0\n",
            "0 * 4 = 0\n",
            "0 * 5 = 0\n",
            "1 * 0 = 0\n",
            "1 * 1 = 1\n",
            "1 * 2 = 2\n",
            "1 * 3 = 3\n",
            "1 * 4 = 4\n",
            "1 * 5 = 5\n",
            "2 * 0 = 0\n",
            "2 * 1 = 2\n",
            "2 * 2 = 4\n",
            "2 * 3 = 6\n",
            "2 * 4 = 8\n",
            "2 * 5 = 10\n",
            "3 * 0 = 0\n",
            "3 * 1 = 3\n",
            "3 * 2 = 6\n",
            "3 * 3 = 9\n",
            "3 * 4 = 12\n",
            "3 * 5 = 15\n",
            "4 * 0 = 0\n",
            "4 * 1 = 4\n",
            "4 * 2 = 8\n",
            "4 * 3 = 12\n",
            "4 * 4 = 16\n",
            "4 * 5 = 20\n",
            "5 * 0 = 0\n",
            "5 * 1 = 5\n",
            "5 * 2 = 10\n",
            "5 * 3 = 15\n",
            "5 * 4 = 20\n",
            "5 * 5 = 25\n"
          ]
        }
      ]
    },
    {
      "cell_type": "code",
      "source": [
        "size = 5\n",
        "for x in range(size):\n",
        "    for y in range(size):\n",
        "        print(f\"{x},{y}\\t\\t\", end='')\n",
        "    print()\n",
        "#for looping inside a for loop five times and then printing them in the order below"
      ],
      "metadata": {
        "colab": {
          "base_uri": "https://localhost:8080/"
        },
        "id": "hUUkJ80U9F-n",
        "outputId": "6709480e-5c0d-437e-8fd6-0d67ab9c56da"
      },
      "execution_count": null,
      "outputs": [
        {
          "output_type": "stream",
          "name": "stdout",
          "text": [
            "0,0\t\t0,1\t\t0,2\t\t0,3\t\t0,4\t\t\n",
            "1,0\t\t1,1\t\t1,2\t\t1,3\t\t1,4\t\t\n",
            "2,0\t\t2,1\t\t2,2\t\t2,3\t\t2,4\t\t\n",
            "3,0\t\t3,1\t\t3,2\t\t3,3\t\t3,4\t\t\n",
            "4,0\t\t4,1\t\t4,2\t\t4,3\t\t4,4\t\t\n"
          ]
        }
      ]
    },
    {
      "cell_type": "code",
      "source": [
        "for x in range(size):\n",
        "    for y in range(size):\n",
        "        if (x + y) % 2:\n",
        "            print(\"\\U0001F600\\t\", end='')\n",
        "        else:\n",
        "            print(\"\\U0001F60D\\t\", end='')\n",
        "    print()\n",
        "#doing the same but with emojis"
      ],
      "metadata": {
        "colab": {
          "base_uri": "https://localhost:8080/"
        },
        "id": "R6wIyYflBu0p",
        "outputId": "3eb5358c-0658-4ca6-8b3f-887319b00689"
      },
      "execution_count": null,
      "outputs": [
        {
          "output_type": "stream",
          "name": "stdout",
          "text": [
            "😍\t😀\t😍\t😀\t😍\t\n",
            "😀\t😍\t😀\t😍\t😀\t\n",
            "😍\t😀\t😍\t😀\t😍\t\n",
            "😀\t😍\t😀\t😍\t😀\t\n",
            "😍\t😀\t😍\t😀\t😍\t\n"
          ]
        }
      ]
    },
    {
      "cell_type": "markdown",
      "source": [
        "## The `while` Loop"
      ],
      "metadata": {
        "id": "EwH8rRrJ9F7O"
      }
    },
    {
      "cell_type": "code",
      "source": [
        "i = 0\n",
        "while i < 6:\n",
        "    print(i)\n",
        "    i += 1\n",
        "#doing a while loop which keeps looping until statement has been reached"
      ],
      "metadata": {
        "colab": {
          "base_uri": "https://localhost:8080/"
        },
        "id": "AFglem6eAu3h",
        "outputId": "cce40bc2-2e93-42ba-812c-c3a45876168d"
      },
      "execution_count": null,
      "outputs": [
        {
          "output_type": "stream",
          "name": "stdout",
          "text": [
            "0\n",
            "1\n",
            "2\n",
            "3\n",
            "4\n",
            "5\n"
          ]
        }
      ]
    },
    {
      "cell_type": "code",
      "source": [
        "puzzle_pieces = 20\n",
        "pieces_placed = 0\n",
        "\n",
        "while pieces_placed < puzzle_pieces:\n",
        "    pieces_placed += 1\n",
        "    print(f\"Piece {pieces_placed} placed\")\n",
        "#contunously adding to variable until the pieces placed are larger than puzzle pieces"
      ],
      "metadata": {
        "colab": {
          "base_uri": "https://localhost:8080/"
        },
        "id": "0_8mUa13Au0R",
        "outputId": "97ce2a50-7439-4084-c0c5-91fa35aca865"
      },
      "execution_count": null,
      "outputs": [
        {
          "output_type": "stream",
          "name": "stdout",
          "text": [
            "Piece 1 placed\n",
            "Piece 2 placed\n",
            "Piece 3 placed\n",
            "Piece 4 placed\n",
            "Piece 5 placed\n",
            "Piece 6 placed\n",
            "Piece 7 placed\n",
            "Piece 8 placed\n",
            "Piece 9 placed\n",
            "Piece 10 placed\n",
            "Piece 11 placed\n",
            "Piece 12 placed\n",
            "Piece 13 placed\n",
            "Piece 14 placed\n",
            "Piece 15 placed\n",
            "Piece 16 placed\n",
            "Piece 17 placed\n",
            "Piece 18 placed\n",
            "Piece 19 placed\n",
            "Piece 20 placed\n"
          ]
        }
      ]
    },
    {
      "cell_type": "markdown",
      "source": [
        "#### Using `else` with `while` Loops"
      ],
      "metadata": {
        "id": "sTNFP1y8AuxX"
      }
    },
    {
      "cell_type": "code",
      "source": [
        "i = 1\n",
        "while i < 10:\n",
        "    i += 3\n",
        "    if i % 2 == 0:\n",
        "        print(\"Sequence contains an even number\")\n",
        "        break\n",
        "else:\n",
        "    print(\"Sequence does not contain an even number\")\n",
        "#having a if else statement inside a while loop"
      ],
      "metadata": {
        "colab": {
          "base_uri": "https://localhost:8080/"
        },
        "id": "mCD6TJ7xAuut",
        "outputId": "f6f91525-ad71-4171-97bd-3c639bd4c6b2"
      },
      "execution_count": null,
      "outputs": [
        {
          "output_type": "stream",
          "name": "stdout",
          "text": [
            "Sequence contains an even number\n"
          ]
        }
      ]
    },
    {
      "cell_type": "markdown",
      "source": [
        "#### A bit of Practice"
      ],
      "metadata": {
        "id": "vsluDcrXAurm"
      }
    },
    {
      "cell_type": "code",
      "source": [
        "i = 0\n",
        "while i < 10:\n",
        "    i += 1\n",
        "    print(f\"{i}. Hello while loop\")\n",
        "#using a while loop with string formating"
      ],
      "metadata": {
        "colab": {
          "base_uri": "https://localhost:8080/"
        },
        "id": "YGP32zscCDyz",
        "outputId": "f01d81ba-c7a8-4733-9c97-5dcbd9c5457f"
      },
      "execution_count": null,
      "outputs": [
        {
          "output_type": "stream",
          "name": "stdout",
          "text": [
            "1. Hello while loop\n",
            "2. Hello while loop\n",
            "3. Hello while loop\n",
            "4. Hello while loop\n",
            "5. Hello while loop\n",
            "6. Hello while loop\n",
            "7. Hello while loop\n",
            "8. Hello while loop\n",
            "9. Hello while loop\n",
            "10. Hello while loop\n"
          ]
        }
      ]
    },
    {
      "cell_type": "code",
      "source": [
        "cats = ['Tigger', 'Smokey', 'Sassy', 'Patch', 'Sammy']\n",
        "i = 0\n",
        "while i < len(cats):\n",
        "    print(f\"Hello {cats[i]}\")\n",
        "    i += 1\n",
        "#printing out a list with a while loop"
      ],
      "metadata": {
        "colab": {
          "base_uri": "https://localhost:8080/"
        },
        "id": "-55iIjLUCDwB",
        "outputId": "d6b6a906-85f3-4eb4-8f4e-9e729abf7cd0"
      },
      "execution_count": null,
      "outputs": [
        {
          "output_type": "stream",
          "name": "stdout",
          "text": [
            "Hello Tigger\n",
            "Hello Smokey\n",
            "Hello Sassy\n",
            "Hello Patch\n",
            "Hello Sammy\n"
          ]
        }
      ]
    },
    {
      "cell_type": "code",
      "source": [
        "number = int(input(\"Please enter a number:\\n\"))\n",
        "factorial = 1\n",
        "i = 1\n",
        "while i <= number:\n",
        "    factorial *= i\n",
        "    i += 1\n",
        "print(f\"{number}! = {factorial}\")\n"
      ],
      "metadata": {
        "colab": {
          "base_uri": "https://localhost:8080/"
        },
        "id": "8HcgYdoyCDtP",
        "outputId": "599ae4f5-5e4d-4221-ac2f-c860f183abf1"
      },
      "execution_count": null,
      "outputs": [
        {
          "output_type": "stream",
          "name": "stdout",
          "text": [
            "Please enter a number:\n",
            "3\n",
            "3! = 6\n"
          ]
        }
      ]
    },
    {
      "cell_type": "code",
      "source": [
        "i = 0\n",
        "while True:\n",
        "    print(i)\n",
        "    i += 1\n",
        "    if i >= 10:\n",
        "        break\n"
      ],
      "metadata": {
        "colab": {
          "base_uri": "https://localhost:8080/"
        },
        "id": "UBfjtHIgCDqX",
        "outputId": "954f249f-0c5c-4b75-fc28-062fdb37a7d9"
      },
      "execution_count": null,
      "outputs": [
        {
          "output_type": "stream",
          "name": "stdout",
          "text": [
            "0\n",
            "1\n",
            "2\n",
            "3\n",
            "4\n",
            "5\n",
            "6\n",
            "7\n",
            "8\n",
            "9\n"
          ]
        }
      ]
    },
    {
      "cell_type": "code",
      "source": [],
      "metadata": {
        "id": "LdOP8F9WCDnV"
      },
      "execution_count": null,
      "outputs": []
    },
    {
      "cell_type": "code",
      "source": [],
      "metadata": {
        "id": "flEWe1gaCDk-"
      },
      "execution_count": null,
      "outputs": []
    }
  ]
}